{
  "nbformat": 4,
  "nbformat_minor": 0,
  "metadata": {
    "colab": {
      "provenance": []
    },
    "kernelspec": {
      "name": "python3",
      "display_name": "Python 3"
    },
    "language_info": {
      "name": "python"
    }
  },
  "cells": [
    {
      "cell_type": "markdown",
      "source": [
        "# Name : Mann Dsylva\n",
        "# Rollno : 24MAI009\n",
        "\n",
        "#A* algorithm"
      ],
      "metadata": {
        "id": "UkiH1IhmKNz6"
      }
    },
    {
      "cell_type": "code",
      "execution_count": null,
      "metadata": {
        "colab": {
          "base_uri": "https://localhost:8080/"
        },
        "id": "BeQ5DSxIIekT",
        "outputId": "1745922d-512b-43cf-aea9-f6c192464906"
      },
      "outputs": [
        {
          "output_type": "stream",
          "name": "stdout",
          "text": [
            "Path found: [(0, 0), (1, 0), (2, 0), (2, 1), (2, 2), (3, 2), (3, 3), (3, 4), (4, 4)]\n"
          ]
        }
      ],
      "source": [
        "class Node:\n",
        "    def __init__(self, position, parent=None):\n",
        "        self.position = position  # (x, y) coordinates on the grid\n",
        "        self.parent = parent\n",
        "        self.g = 0  # cost from start to current node\n",
        "        self.h = 0  # heuristic (estimated cost to goal)\n",
        "        self.f = 0  # total cost (g + h)\n",
        "\n",
        "def heuristic(current, goal):\n",
        "    # Using Manhattan distance as the heuristic\n",
        "    return abs(current[0] - goal[0]) + abs(current[1] - goal[1])\n",
        "\n",
        "def a_star(grid, start, goal):\n",
        "    open_list = []\n",
        "    closed_list = set()\n",
        "\n",
        "    start_node = Node(start)\n",
        "    goal_node = Node(goal)\n",
        "    open_list.append(start_node)\n",
        "\n",
        "    while open_list:\n",
        "        # Get node with lowest f cost\n",
        "        current_node = min(open_list, key=lambda node: node.f)\n",
        "        open_list.remove(current_node)\n",
        "        closed_list.add(current_node.position)\n",
        "\n",
        "        # Check if we've reached the goal\n",
        "        if current_node.position == goal_node.position:\n",
        "            path = []\n",
        "            while current_node:\n",
        "                path.append(current_node.position)\n",
        "                current_node = current_node.parent\n",
        "            return path[::-1]  # return reversed path\n",
        "\n",
        "        # Get neighbors (up, down, left, right)\n",
        "        neighbors = [\n",
        "            (0, -1), (0, 1), (-1, 0), (1, 0)\n",
        "        ]\n",
        "\n",
        "        for n in neighbors:\n",
        "            neighbor_pos = (current_node.position[0] + n[0], current_node.position[1] + n[1])\n",
        "\n",
        "            # Check if neighbor is inside grid bounds and not an obstacle\n",
        "            if 0 <= neighbor_pos[0] < len(grid) and 0 <= neighbor_pos[1] < len(grid[0]) and grid[neighbor_pos[0]][neighbor_pos[1]] == 0:\n",
        "                if neighbor_pos in closed_list:\n",
        "                    continue  # Skip already processed nodes\n",
        "\n",
        "                neighbor_node = Node(neighbor_pos, current_node)\n",
        "                neighbor_node.g = current_node.g + 1\n",
        "                neighbor_node.h = heuristic(neighbor_node.position, goal_node.position)\n",
        "                neighbor_node.f = neighbor_node.g + neighbor_node.h\n",
        "\n",
        "                if all(neighbor_node.position != node.position for node in open_list):\n",
        "                    open_list.append(neighbor_node)\n",
        "\n",
        "    return None  # No path found\n",
        "\n",
        "# Example usage:\n",
        "grid = [\n",
        "    [0, 1, 0, 0, 0],\n",
        "    [0, 1, 0, 1, 0],\n",
        "    [0, 0, 0, 1, 0],\n",
        "    [1, 1, 0, 0, 0],\n",
        "    [0, 0, 0, 1, 0]\n",
        "]\n",
        "\n",
        "start = (0, 0)\n",
        "goal = (4, 4)\n",
        "path = a_star(grid, start, goal)\n",
        "\n",
        "if path:\n",
        "    print(\"Path found:\", path)\n",
        "else:\n",
        "    print(\"No path found\")\n"
      ]
    }
  ]
}