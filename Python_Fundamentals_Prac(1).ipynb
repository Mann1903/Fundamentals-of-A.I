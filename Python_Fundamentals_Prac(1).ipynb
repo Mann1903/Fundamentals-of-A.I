{
 "cells": [
  {
   "cell_type": "markdown",
   "metadata": {},
   "source": [
    "# Name :   Mann Dsylva\n",
    "# Rollno : 24MAI009\n",
    "Practical 1 : Python Basics\n"
   ]
  },
  {
   "cell_type": "code",
   "execution_count": null,
   "metadata": {
    "colab": {
     "base_uri": "https://localhost:8080/"
    },
    "id": "LhAuxgTYPeS-",
    "outputId": "79c32e02-4a98-4ab9-c286-42b2084eafda"
   },
   "outputs": [
    {
     "name": "stdout",
     "output_type": "stream",
     "text": [
      "Hello World\n"
     ]
    }
   ],
   "source": [
    "print('Hello World')        #print function of python to print something"
   ]
  },
  {
   "cell_type": "code",
   "execution_count": null,
   "metadata": {
    "id": "Wzl-U3m9PmlC"
   },
   "outputs": [],
   "source": [
    "#Variables\n",
    "#Data Types\n",
    "#Operators\n",
    "#If-Else\n",
    "#Loopings\n",
    "#Function\n",
    "#Classes"
   ]
  },
  {
   "cell_type": "code",
   "execution_count": null,
   "metadata": {
    "colab": {
     "base_uri": "https://localhost:8080/"
    },
    "id": "PNLXzAo1QrPH",
    "outputId": "2689fb05-d0cb-4cd8-e203-632ab0e3253d"
   },
   "outputs": [
    {
     "name": "stdout",
     "output_type": "stream",
     "text": [
      "Mann\n",
      "22.0\n"
     ]
    }
   ],
   "source": [
    "name = 'Mann'\n",
    "age = 22.0\n",
    "\n",
    "print(name)\n",
    "print(age)"
   ]
  },
  {
   "cell_type": "code",
   "execution_count": null,
   "metadata": {
    "colab": {
     "base_uri": "https://localhost:8080/"
    },
    "id": "GVJN5fflQ3xA",
    "outputId": "cea43422-f773-442d-e396-8511f8b50ef1"
   },
   "outputs": [
    {
     "name": "stdout",
     "output_type": "stream",
     "text": [
      "Hello Mann\n",
      "27.0\n"
     ]
    }
   ],
   "source": [
    "print('Hello' , name)\n",
    "print(age + 5)"
   ]
  },
  {
   "cell_type": "code",
   "execution_count": null,
   "metadata": {
    "colab": {
     "base_uri": "https://localhost:8080/"
    },
    "id": "8VZPEuUBQ8oN",
    "outputId": "420fd5e7-9e20-42fe-cc2f-f9910ecf8eab"
   },
   "outputs": [
    {
     "name": "stdout",
     "output_type": "stream",
     "text": [
      "<class 'str'>\n",
      "<class 'float'>\n"
     ]
    }
   ],
   "source": [
    "print(type(name))\n",
    "print(type(age))"
   ]
  },
  {
   "cell_type": "code",
   "execution_count": null,
   "metadata": {
    "id": "LF-26VM-RPBD"
   },
   "outputs": [],
   "source": [
    "a = 'Hello'\n",
    "b = 55\n",
    "c = [5,9,3,6,2,1]     #List. - Mutable\n",
    "d = (3,6,8,3,4,1)    #Tuple - Immutable\n",
    "e = {'a' : 'Hello' , 'b' : 45 , 'c' : [1,2,3]}"
   ]
  },
  {
   "cell_type": "code",
   "execution_count": null,
   "metadata": {
    "colab": {
     "base_uri": "https://localhost:8080/"
    },
    "id": "1U-qy1ATRl7a",
    "outputId": "f68cf2c1-95da-4f18-a57a-fd9c3ed6f12e"
   },
   "outputs": [
    {
     "name": "stdout",
     "output_type": "stream",
     "text": [
      "<class 'str'>\n",
      "<class 'int'>\n",
      "<class 'list'>\n",
      "<class 'tuple'>\n",
      "<class 'dict'>\n"
     ]
    }
   ],
   "source": [
    "print(type(a))\n",
    "print(type(b))\n",
    "print(type(c))\n",
    "print(type(d))\n",
    "print(type(e))"
   ]
  },
  {
   "cell_type": "code",
   "execution_count": null,
   "metadata": {
    "colab": {
     "base_uri": "https://localhost:8080/"
    },
    "id": "6YNisdfURx2x",
    "outputId": "e405eae0-517c-41b2-e22b-b5d34680874d"
   },
   "outputs": [
    {
     "name": "stdout",
     "output_type": "stream",
     "text": [
      "[5, 9, 3, 6, 2, 1]\n",
      "5\n",
      "9\n",
      "3\n"
     ]
    }
   ],
   "source": [
    "#[0,1,2,3,4,5]\n",
    "print(c)\n",
    "print(c[0])\n",
    "print(c[1])\n",
    "print(c[2])"
   ]
  },
  {
   "cell_type": "code",
   "execution_count": null,
   "metadata": {
    "colab": {
     "base_uri": "https://localhost:8080/"
    },
    "id": "ckH4VzBkSHCE",
    "outputId": "31e6ee7e-55ad-41a9-f395-577e4abe78a6"
   },
   "outputs": [
    {
     "name": "stdout",
     "output_type": "stream",
     "text": [
      "(3, 6, 8, 3, 4, 1)\n",
      "3\n",
      "6\n",
      "8\n"
     ]
    }
   ],
   "source": [
    "print(d)\n",
    "print(d[0])\n",
    "print(d[1])\n",
    "print(d[2])"
   ]
  },
  {
   "cell_type": "code",
   "execution_count": null,
   "metadata": {
    "colab": {
     "base_uri": "https://localhost:8080/"
    },
    "id": "n2oSe_U8SSX3",
    "outputId": "d6bb995b-8389-45c9-f624-9eb075a780bd"
   },
   "outputs": [
    {
     "name": "stdout",
     "output_type": "stream",
     "text": [
      "[5, 9, 3, 6, 2, 1]\n",
      "[5, 9, 3, 16, 2, 1]\n"
     ]
    }
   ],
   "source": [
    "print(c)\n",
    "c[3] = 16\n",
    "print(c)"
   ]
  },
  {
   "cell_type": "code",
   "execution_count": null,
   "metadata": {
    "colab": {
     "base_uri": "https://localhost:8080/"
    },
    "id": "152nxXM4ScJ0",
    "outputId": "df576226-f925-4b72-d9f5-153f49655d2c"
   },
   "outputs": [
    {
     "name": "stdout",
     "output_type": "stream",
     "text": [
      "[5, 9, 3, 16, 2, 1]\n",
      "[5, 9, 3, 16, 2, 1, 14]\n"
     ]
    }
   ],
   "source": [
    "print(c)\n",
    "c.append(14)\n",
    "print(c)"
   ]
  },
  {
   "cell_type": "code",
   "execution_count": null,
   "metadata": {
    "colab": {
     "base_uri": "https://localhost:8080/"
    },
    "id": "9mHkq-4fSllc",
    "outputId": "1418ac9f-7e56-4f4f-ec62-1a09dbbf61b9"
   },
   "outputs": [
    {
     "name": "stdout",
     "output_type": "stream",
     "text": [
      "[5, 9, 3, 16, 2, 1, 14]\n",
      "[5, 9, 3, 2, 1, 14]\n"
     ]
    }
   ],
   "source": [
    "print(c)\n",
    "c.remove(16)\n",
    "print(c)"
   ]
  },
  {
   "cell_type": "code",
   "execution_count": null,
   "metadata": {
    "colab": {
     "base_uri": "https://localhost:8080/"
    },
    "id": "iO8tpsQBSpz5",
    "outputId": "7e5bf5de-ce09-4f2c-e11e-ea068b839b97"
   },
   "outputs": [
    {
     "name": "stdout",
     "output_type": "stream",
     "text": [
      "[5, 9, 3, 2, 1, 14]\n",
      "[5, 9, 3, 13, 2, 1, 14]\n"
     ]
    }
   ],
   "source": [
    "print(c)\n",
    "c.insert(3,13)\n",
    "print(c)"
   ]
  },
  {
   "cell_type": "code",
   "execution_count": null,
   "metadata": {
    "colab": {
     "base_uri": "https://localhost:8080/"
    },
    "id": "X6q5Z59TTePy",
    "outputId": "8e899c90-4760-4573-af83-59d32e4a9224"
   },
   "outputs": [
    {
     "name": "stdout",
     "output_type": "stream",
     "text": [
      "[5, 6, 3, 9, 3, 2]\n"
     ]
    }
   ],
   "source": [
    "c2 = [3,5,6,3,9,3,2]\n",
    "c2.remove(3)  #To remove an item using value\n",
    "print(c2)"
   ]
  },
  {
   "cell_type": "code",
   "execution_count": null,
   "metadata": {
    "colab": {
     "base_uri": "https://localhost:8080/"
    },
    "id": "OojbIQ3_UChK",
    "outputId": "9d0b98b5-9f20-43da-978e-9f0cfb3cfd5a"
   },
   "outputs": [
    {
     "name": "stdout",
     "output_type": "stream",
     "text": [
      "[5, 6, 3, 9, 3, 2]\n",
      "[5, 6, 3, 3, 2]\n"
     ]
    }
   ],
   "source": [
    "print(c2)\n",
    "c2.pop(3)  #to remove a item using index\n",
    "print(c2)"
   ]
  },
  {
   "cell_type": "code",
   "execution_count": null,
   "metadata": {
    "colab": {
     "base_uri": "https://localhost:8080/"
    },
    "id": "MnQyM80mUcxg",
    "outputId": "d744ff4b-ca2c-4ae6-b445-f1a5ca9dd08f"
   },
   "outputs": [
    {
     "data": {
      "text/plain": [
       "1"
      ]
     },
     "execution_count": 37,
     "metadata": {},
     "output_type": "execute_result"
    }
   ],
   "source": [
    "c2.index(6) #to access index of a value"
   ]
  },
  {
   "cell_type": "code",
   "execution_count": null,
   "metadata": {
    "colab": {
     "base_uri": "https://localhost:8080/",
     "height": 211
    },
    "id": "RoMU3KZVS0ZV",
    "outputId": "45ea336e-287c-43d5-cc6f-0caa3b37d41c"
   },
   "outputs": [
    {
     "name": "stdout",
     "output_type": "stream",
     "text": [
      "(3, 6, 8, 3, 4, 1)\n"
     ]
    },
    {
     "ename": "TypeError",
     "evalue": "'tuple' object does not support item assignment",
     "output_type": "error",
     "traceback": [
      "\u001b[0;31m---------------------------------------------------------------------------\u001b[0m",
      "\u001b[0;31mTypeError\u001b[0m                                 Traceback (most recent call last)",
      "\u001b[0;32m<ipython-input-38-160bb778d799>\u001b[0m in \u001b[0;36m<cell line: 2>\u001b[0;34m()\u001b[0m\n\u001b[1;32m      1\u001b[0m \u001b[0mprint\u001b[0m\u001b[0;34m(\u001b[0m\u001b[0md\u001b[0m\u001b[0;34m)\u001b[0m\u001b[0;34m\u001b[0m\u001b[0;34m\u001b[0m\u001b[0m\n\u001b[0;32m----> 2\u001b[0;31m \u001b[0md\u001b[0m\u001b[0;34m[\u001b[0m\u001b[0;36m2\u001b[0m\u001b[0;34m]\u001b[0m \u001b[0;34m=\u001b[0m \u001b[0;36m18\u001b[0m\u001b[0;34m\u001b[0m\u001b[0;34m\u001b[0m\u001b[0m\n\u001b[0m\u001b[1;32m      3\u001b[0m \u001b[0;34m\u001b[0m\u001b[0m\n\u001b[1;32m      4\u001b[0m \u001b[0;31m#tuples are immutable\u001b[0m\u001b[0;34m\u001b[0m\u001b[0;34m\u001b[0m\u001b[0m\n",
      "\u001b[0;31mTypeError\u001b[0m: 'tuple' object does not support item assignment"
     ]
    }
   ],
   "source": [
    "print(d)\n",
    "d[2] = 18\n",
    "\n",
    "#tuples are immutable"
   ]
  },
  {
   "cell_type": "code",
   "execution_count": null,
   "metadata": {
    "id": "frwukyLaUZu7"
   },
   "outputs": [],
   "source": []
  },
  {
   "cell_type": "code",
   "execution_count": null,
   "metadata": {
    "colab": {
     "base_uri": "https://localhost:8080/"
    },
    "id": "fnVyviSxS40I",
    "outputId": "8554f5dc-8248-4511-ee05-e4c7cc6b7e0f"
   },
   "outputs": [
    {
     "name": "stdout",
     "output_type": "stream",
     "text": [
      "{'a': 'Hello', 'b': 45, 'c': [1, 2, 3]}\n"
     ]
    }
   ],
   "source": [
    "print(e)"
   ]
  },
  {
   "cell_type": "code",
   "execution_count": null,
   "metadata": {
    "colab": {
     "base_uri": "https://localhost:8080/"
    },
    "id": "vzALthj8TIh_",
    "outputId": "d234703e-9287-40b3-e623-843671bef36c"
   },
   "outputs": [
    {
     "name": "stdout",
     "output_type": "stream",
     "text": [
      "dict_keys(['a', 'b', 'c'])\n",
      "dict_values(['Hello', 45, [1, 2, 3]])\n"
     ]
    }
   ],
   "source": [
    "print(e.keys())\n",
    "print(e.values())"
   ]
  },
  {
   "cell_type": "code",
   "execution_count": null,
   "metadata": {
    "colab": {
     "base_uri": "https://localhost:8080/"
    },
    "id": "fUMEOo3dTCRb",
    "outputId": "8fe379bc-1d43-4dd0-cfd2-742c25e962e8"
   },
   "outputs": [
    {
     "name": "stdout",
     "output_type": "stream",
     "text": [
      "Hello\n",
      "45\n",
      "[1, 2, 3]\n"
     ]
    }
   ],
   "source": [
    "print(e['a'])\n",
    "print(e['b'])\n",
    "print(e['c'])"
   ]
  },
  {
   "cell_type": "code",
   "execution_count": null,
   "metadata": {
    "colab": {
     "base_uri": "https://localhost:8080/",
     "height": 176
    },
    "id": "bOjoIWykLMbB",
    "outputId": "376b2890-9ab8-4a12-f390-8da9fe37474f"
   },
   "outputs": [
    {
     "ename": "AttributeError",
     "evalue": "'dict' object has no attribute 'value'",
     "output_type": "error",
     "traceback": [
      "\u001b[0;31m---------------------------------------------------------------------------\u001b[0m",
      "\u001b[0;31mAttributeError\u001b[0m                            Traceback (most recent call last)",
      "\u001b[0;32m<ipython-input-92-77e9f7c5189b>\u001b[0m in \u001b[0;36m<cell line: 1>\u001b[0;34m()\u001b[0m\n\u001b[1;32m      1\u001b[0m \u001b[0;32mfor\u001b[0m \u001b[0mi\u001b[0m \u001b[0;32min\u001b[0m \u001b[0me\u001b[0m\u001b[0;34m:\u001b[0m\u001b[0;34m\u001b[0m\u001b[0;34m\u001b[0m\u001b[0m\n\u001b[0;32m----> 2\u001b[0;31m   \u001b[0;32mif\u001b[0m\u001b[0;34m(\u001b[0m\u001b[0me\u001b[0m\u001b[0;34m.\u001b[0m\u001b[0mvalue\u001b[0m\u001b[0;34m(\u001b[0m\u001b[0;34m)\u001b[0m\u001b[0;34m==\u001b[0m\u001b[0;36m45\u001b[0m\u001b[0;34m)\u001b[0m\u001b[0;34m:\u001b[0m\u001b[0;34m\u001b[0m\u001b[0;34m\u001b[0m\u001b[0m\n\u001b[0m\u001b[1;32m      3\u001b[0m     \u001b[0mprint\u001b[0m\u001b[0;34m(\u001b[0m\u001b[0me\u001b[0m\u001b[0;34m.\u001b[0m\u001b[0mkey\u001b[0m\u001b[0;34m(\u001b[0m\u001b[0;34m)\u001b[0m\u001b[0;34m)\u001b[0m\u001b[0;34m\u001b[0m\u001b[0;34m\u001b[0m\u001b[0m\n",
      "\u001b[0;31mAttributeError\u001b[0m: 'dict' object has no attribute 'value'"
     ]
    }
   ],
   "source": [
    "# for i in e:\n",
    "#   if(e.value()==45):\n",
    "#     print(e.key())"
   ]
  },
  {
   "cell_type": "code",
   "execution_count": null,
   "metadata": {
    "colab": {
     "base_uri": "https://localhost:8080/"
    },
    "id": "aVdjCmumTECP",
    "outputId": "e8ca47e3-f184-4bd8-a0f0-f5fb5b912ef0"
   },
   "outputs": [
    {
     "name": "stdout",
     "output_type": "stream",
     "text": [
      "{'a': 'Hello', 'b': 45, 'c': [1, 2, 3]}\n",
      "{'a': 'Hello', 'b': 45, 'c': [1, 2, 3], 'name': 'Mann'}\n"
     ]
    }
   ],
   "source": [
    "print(e)\n",
    "e['name'] = 'Mann'\n",
    "print(e)"
   ]
  },
  {
   "cell_type": "code",
   "execution_count": null,
   "metadata": {
    "colab": {
     "base_uri": "https://localhost:8080/"
    },
    "id": "lhcggpQYT92X",
    "outputId": "abc2ffaa-6673-4049-973e-e01d3a5cd7b7"
   },
   "outputs": [
    {
     "name": "stdout",
     "output_type": "stream",
     "text": [
      "22\n",
      "12\n",
      "85\n",
      "3.4\n",
      "1419857\n",
      "3\n",
      "2\n"
     ]
    }
   ],
   "source": [
    "#Operators/Operands --\n",
    "a = 17\n",
    "b = 5\n",
    "\n",
    "#Arthmetical\n",
    "print(a + b)\n",
    "print(a - b)\n",
    "print(a * b)\n",
    "print(a / b)\n",
    "print(a ** b)\n",
    "print(a // b)\n",
    "print(a % b)"
   ]
  },
  {
   "cell_type": "code",
   "execution_count": null,
   "metadata": {
    "colab": {
     "base_uri": "https://localhost:8080/"
    },
    "id": "j8of3zkcWFrc",
    "outputId": "558e99b8-2535-4b0b-a5cb-babcedecdc04"
   },
   "outputs": [
    {
     "name": "stdout",
     "output_type": "stream",
     "text": [
      "False\n",
      "True\n",
      "True\n",
      "False\n",
      "True\n",
      "False\n"
     ]
    }
   ],
   "source": [
    "#Comparators\n",
    "print(a == b)\n",
    "print(a != b)\n",
    "print(a > b)\n",
    "print(a < b)\n",
    "print(a >= b)\n",
    "print(a <= b)"
   ]
  },
  {
   "cell_type": "code",
   "execution_count": null,
   "metadata": {
    "colab": {
     "base_uri": "https://localhost:8080/"
    },
    "id": "D6sx4A2cWX6D",
    "outputId": "f8d432ac-15d3-4567-d9b9-d5c06fbb21f2"
   },
   "outputs": [
    {
     "name": "stdout",
     "output_type": "stream",
     "text": [
      "19.0\n"
     ]
    }
   ],
   "source": [
    "#Division\n",
    "#Multiplication\n",
    "#addition\n",
    "#Subtraction\n",
    "print(a + (b - 4) * 4 / 2)"
   ]
  },
  {
   "cell_type": "code",
   "execution_count": null,
   "metadata": {
    "colab": {
     "base_uri": "https://localhost:8080/"
    },
    "id": "nx8q_AEgagMb",
    "outputId": "8d57fa64-7cc3-4486-e14b-0d35f1a4433b"
   },
   "outputs": [
    {
     "name": "stdout",
     "output_type": "stream",
     "text": [
      "22\n"
     ]
    }
   ],
   "source": [
    "c = a+b\n",
    "print(c)"
   ]
  },
  {
   "cell_type": "code",
   "execution_count": null,
   "metadata": {
    "colab": {
     "base_uri": "https://localhost:8080/"
    },
    "id": "h31x2JYHbEVb",
    "outputId": "15aaf846-28ed-40b2-d05a-e4024310270b"
   },
   "outputs": [
    {
     "name": "stdout",
     "output_type": "stream",
     "text": [
      "1\n",
      "0\n",
      "0\n",
      "0\n"
     ]
    }
   ],
   "source": [
    "#Bitwise operator\n",
    "print(1 & 1)\n",
    "print(1 & 0)\n",
    "print(0 & 1)\n",
    "print(0 & 0)"
   ]
  },
  {
   "cell_type": "code",
   "execution_count": null,
   "metadata": {
    "colab": {
     "base_uri": "https://localhost:8080/"
    },
    "id": "2Qp5rrXRbOc-",
    "outputId": "b81bab45-8b2f-4c1a-c2ed-2143bbfa1224"
   },
   "outputs": [
    {
     "name": "stdout",
     "output_type": "stream",
     "text": [
      "True\n",
      "False\n",
      "False\n",
      "False\n"
     ]
    }
   ],
   "source": [
    "print(True & True)\n",
    "print(True & False)\n",
    "print(False & True)\n",
    "print(False & False)"
   ]
  },
  {
   "cell_type": "code",
   "execution_count": null,
   "metadata": {
    "colab": {
     "base_uri": "https://localhost:8080/"
    },
    "id": "VqOMSkebbZ7Y",
    "outputId": "65a8a641-81c7-4d0e-b9af-6afc5ce70522"
   },
   "outputs": [
    {
     "name": "stdout",
     "output_type": "stream",
     "text": [
      "1\n",
      "1\n",
      "1\n",
      "0\n"
     ]
    }
   ],
   "source": [
    "print(1 | 1)\n",
    "print(1 | 0)\n",
    "print(0 | 1)\n",
    "print(0 | 0)"
   ]
  },
  {
   "cell_type": "code",
   "execution_count": null,
   "metadata": {
    "colab": {
     "base_uri": "https://localhost:8080/"
    },
    "id": "BJcr85dOblcH",
    "outputId": "c3d5819e-800b-4f2b-e887-f692759475f1"
   },
   "outputs": [
    {
     "name": "stdout",
     "output_type": "stream",
     "text": [
      "Hello World\n"
     ]
    }
   ],
   "source": [
    "#If-else\n",
    "if True:\n",
    "  print('Hello World')"
   ]
  },
  {
   "cell_type": "code",
   "execution_count": null,
   "metadata": {
    "colab": {
     "base_uri": "https://localhost:8080/"
    },
    "id": "KaTwdcgmb9XQ",
    "outputId": "cc36a7a1-4670-45c6-a6b2-34ee7b6793de"
   },
   "outputs": [
    {
     "name": "stdout",
     "output_type": "stream",
     "text": [
      "abcde\n"
     ]
    }
   ],
   "source": [
    "if False:\n",
    "  print('Hello Google')\n",
    "else:\n",
    "  print('abcde')"
   ]
  },
  {
   "cell_type": "code",
   "execution_count": null,
   "metadata": {
    "colab": {
     "base_uri": "https://localhost:8080/"
    },
    "id": "XQ1sPnECcJlI",
    "outputId": "fe17ad07-6052-4d37-f166-a0677e0a1adc"
   },
   "outputs": [
    {
     "name": "stdout",
     "output_type": "stream",
     "text": [
      "Enter your nameMann\n",
      "Hello Mann\n"
     ]
    }
   ],
   "source": [
    "name = input('Enter your name')\n",
    "\n",
    "if (name == 'Mann'):\n",
    "  print('Hello' , name)\n",
    "else:\n",
    "  print('Not Recognised')"
   ]
  },
  {
   "cell_type": "code",
   "execution_count": null,
   "metadata": {
    "colab": {
     "base_uri": "https://localhost:8080/"
    },
    "id": "p3dXBrTPcVHm",
    "outputId": "56622109-b971-47b6-ef8e-b43d5e023600"
   },
   "outputs": [
    {
     "name": "stdout",
     "output_type": "stream",
     "text": [
      "Enter the usernameMann\n",
      "enter the password12345\n",
      "correct\n"
     ]
    }
   ],
   "source": [
    "#create a program for login\n",
    "#input - user name & password\n",
    "#if username == 'abcde' and password == '12345' >> welcome else >> Wrong credentials\n",
    "\n",
    "user = input('Enter the username')\n",
    "passkey = input('enter the password')\n",
    "u = 'Mann'\n",
    "p = '12345'\n",
    "if(u==user and passkey == p):\n",
    "  print(\"correct\")\n",
    "else:\n",
    "  print('try again')"
   ]
  },
  {
   "cell_type": "code",
   "execution_count": null,
   "metadata": {
    "colab": {
     "base_uri": "https://localhost:8080/"
    },
    "id": "1zoCn4CxeH26",
    "outputId": "86269fc9-41e8-4136-b51c-ae87681299c6"
   },
   "outputs": [
    {
     "name": "stdout",
     "output_type": "stream",
     "text": [
      "Enter Username: Mann\n",
      "Enter Password: 12345\n",
      "Welcome!\n"
     ]
    }
   ],
   "source": [
    "#Input - user name\n",
    "#if user name is correct then only password should be fetched else message non registered user\n",
    "#if password is also correct then only welcome message should be prompted\n",
    "\n",
    "#Nested if\n",
    "\n",
    "name = input('Enter Username: ')\n",
    "if(name=='Mann'):\n",
    "  password = input('Enter Password: ')\n",
    "  if(password == '12345'):\n",
    "    print('Welcome!')\n",
    "  else:\n",
    "    print('Wrong Credentials')\n",
    "else:\n",
    "  print('Unregistered User')"
   ]
  },
  {
   "cell_type": "code",
   "execution_count": null,
   "metadata": {
    "colab": {
     "base_uri": "https://localhost:8080/"
    },
    "id": "hKvUQjN3fVpW",
    "outputId": "68721e68-59c8-47d8-8bfd-6f4766218a80"
   },
   "outputs": [
    {
     "name": "stdout",
     "output_type": "stream",
     "text": [
      "0 Hello\n",
      "1 Hello\n",
      "2 Hello\n",
      "3 Hello\n",
      "4 Hello\n",
      "5 Hello\n",
      "6 Hello\n",
      "7 Hello\n",
      "8 Hello\n",
      "9 Hello\n"
     ]
    }
   ],
   "source": [
    "#Loopings - While /for loop\n",
    "\n",
    "i = 0\n",
    "while i < 10:\n",
    "  print(i,'Hello')\n",
    "  i = i+1"
   ]
  },
  {
   "cell_type": "code",
   "execution_count": null,
   "metadata": {
    "colab": {
     "base_uri": "https://localhost:8080/"
    },
    "id": "BILIYf4KgBFx",
    "outputId": "45b6c8bd-1cb2-4f06-861c-838db7252c92"
   },
   "outputs": [
    {
     "name": "stdout",
     "output_type": "stream",
     "text": [
      "Hello\n",
      "Hello\n",
      "Hello\n",
      "Hello\n",
      "Hello\n",
      "Hello World, How are you?\n"
     ]
    }
   ],
   "source": [
    "i = 0\n",
    "while True:\n",
    "  print('Hello')\n",
    "  i = i+1\n",
    "  if i == 5:\n",
    "    break\n",
    "\n",
    "print('Hello World, How are you?')"
   ]
  },
  {
   "cell_type": "code",
   "execution_count": null,
   "metadata": {
    "colab": {
     "base_uri": "https://localhost:8080/"
    },
    "id": "gjJ9cdEggnuV",
    "outputId": "8be69442-3b61-4e4a-9fc8-a8e320c5c093"
   },
   "outputs": [
    {
     "name": "stdout",
     "output_type": "stream",
     "text": [
      "0 Mann\n",
      "1 Mann\n",
      "2 Mann\n",
      "3 Mann\n",
      "4 Mann\n",
      "5 Mann\n",
      "6 Mann\n",
      "7 Mann\n",
      "8 Mann\n",
      "9 Mann\n",
      "abcdefghijkl\n"
     ]
    }
   ],
   "source": [
    "#for loop\n",
    "for i in range(0,10):\n",
    "  print(i,'Mann')\n",
    "\n",
    "print('abcdefghijkl')"
   ]
  },
  {
   "cell_type": "code",
   "execution_count": null,
   "metadata": {
    "colab": {
     "base_uri": "https://localhost:8080/"
    },
    "id": "Mr0L86zxhIO2",
    "outputId": "1ec55a24-77c8-429a-ae12-5426ee09514a"
   },
   "outputs": [
    {
     "name": "stdout",
     "output_type": "stream",
     "text": [
      "0 Mann\n",
      "2 Mann\n",
      "4 Mann\n",
      "6 Mann\n",
      "8 Mann\n"
     ]
    }
   ],
   "source": [
    "for i in range(0,10,2):\n",
    "  print(i,'Mann')"
   ]
  },
  {
   "cell_type": "code",
   "execution_count": null,
   "metadata": {
    "colab": {
     "base_uri": "https://localhost:8080/"
    },
    "id": "2wMQckbshRXb",
    "outputId": "d3b7468c-4d3c-46dc-aaba-192969190233"
   },
   "outputs": [
    {
     "name": "stdout",
     "output_type": "stream",
     "text": [
      "5\n"
     ]
    }
   ],
   "source": [
    "countries = ['India','Japan','USA','France','Germany']\n",
    "\n",
    "print(len(countries))"
   ]
  },
  {
   "cell_type": "code",
   "execution_count": null,
   "metadata": {
    "colab": {
     "base_uri": "https://localhost:8080/"
    },
    "id": "0_Wsb_i3hjjS",
    "outputId": "68c55c56-4a5a-4115-9512-bbd37a22b306"
   },
   "outputs": [
    {
     "name": "stdout",
     "output_type": "stream",
     "text": [
      "India 5\n",
      "Japan 5\n",
      "USA 3\n",
      "France 6\n",
      "Germany 7\n"
     ]
    }
   ],
   "source": [
    "print(countries[0] , len(countries[0]))\n",
    "print(countries[1] , len(countries[1]))\n",
    "print(countries[2] , len(countries[2]))\n",
    "print(countries[3] , len(countries[3]))\n",
    "print(countries[4] , len(countries[4]))"
   ]
  },
  {
   "cell_type": "code",
   "execution_count": null,
   "metadata": {
    "colab": {
     "base_uri": "https://localhost:8080/"
    },
    "id": "_JJExXq4hpRv",
    "outputId": "f8132423-ddf9-473d-e042-ffc3af7a6df1"
   },
   "outputs": [
    {
     "name": "stdout",
     "output_type": "stream",
     "text": [
      "India 5\n",
      "Japan 5\n",
      "USA 3\n",
      "France 6\n",
      "Germany 7\n"
     ]
    }
   ],
   "source": [
    "for i in range(len(countries)):\n",
    "  print(countries[i] , len(countries[i]))"
   ]
  },
  {
   "cell_type": "code",
   "execution_count": null,
   "metadata": {
    "colab": {
     "base_uri": "https://localhost:8080/"
    },
    "id": "Jf9DJ2Tzixia",
    "outputId": "4f834201-2615-4645-8e1e-c01c27f8f4d6"
   },
   "outputs": [
    {
     "name": "stdout",
     "output_type": "stream",
     "text": [
      "India 5\n",
      "Japan 5\n",
      "USA 3\n",
      "France 6\n",
      "Germany 7\n"
     ]
    }
   ],
   "source": [
    "#variable with multiple values - List,Tuple,Dict.\n",
    "\n",
    "for val in countries:\n",
    "  print(val , len(val))"
   ]
  },
  {
   "cell_type": "code",
   "execution_count": null,
   "metadata": {
    "colab": {
     "base_uri": "https://localhost:8080/"
    },
    "id": "RCpuSElRjKqh",
    "outputId": "40480696-c05a-48a4-d2b5-67c9c53fff0a"
   },
   "outputs": [
    {
     "name": "stdout",
     "output_type": "stream",
     "text": [
      "10\n"
     ]
    }
   ],
   "source": [
    "#Functions\n",
    "\n",
    "a = 4\n",
    "b = 6\n",
    "c = a+b\n",
    "print(c)"
   ]
  },
  {
   "cell_type": "code",
   "execution_count": null,
   "metadata": {
    "id": "z2sTk20wjt6M"
   },
   "outputs": [],
   "source": [
    "def sum_val():\n",
    "  a = 4\n",
    "  b = 6\n",
    "  c = a+b\n",
    "  print(c)"
   ]
  },
  {
   "cell_type": "code",
   "execution_count": null,
   "metadata": {
    "colab": {
     "base_uri": "https://localhost:8080/"
    },
    "id": "PDzWWY-7j2mU",
    "outputId": "42c474d0-8675-4d44-f093-f40d7d1e71cb"
   },
   "outputs": [
    {
     "name": "stdout",
     "output_type": "stream",
     "text": [
      "10\n",
      "Mann\n",
      "10\n",
      "10\n",
      "abcde\n"
     ]
    }
   ],
   "source": [
    "sum_val()\n",
    "print('Mann')\n",
    "sum_val()\n",
    "sum_val()\n",
    "print('abcde')"
   ]
  },
  {
   "cell_type": "code",
   "execution_count": null,
   "metadata": {
    "id": "JBm_Sc4Zj-iR"
   },
   "outputs": [],
   "source": [
    "def sum_val(a,b):\n",
    "  c = a+b\n",
    "  print(c)"
   ]
  },
  {
   "cell_type": "code",
   "execution_count": null,
   "metadata": {
    "colab": {
     "base_uri": "https://localhost:8080/"
    },
    "id": "Gva30tlAkfxN",
    "outputId": "b9ae6056-dcf4-4ac6-ed5b-0ffce5a3383a"
   },
   "outputs": [
    {
     "name": "stdout",
     "output_type": "stream",
     "text": [
      "12\n"
     ]
    }
   ],
   "source": [
    "sum_val(4,8)"
   ]
  },
  {
   "cell_type": "code",
   "execution_count": null,
   "metadata": {
    "colab": {
     "base_uri": "https://localhost:8080/"
    },
    "id": "rLIl4i9wkjqV",
    "outputId": "e8f47630-d4e8-4515-a547-2ba20565c4ed"
   },
   "outputs": [
    {
     "name": "stdout",
     "output_type": "stream",
     "text": [
      "36\n"
     ]
    }
   ],
   "source": [
    "print(12 * 3)"
   ]
  },
  {
   "cell_type": "code",
   "execution_count": null,
   "metadata": {
    "id": "jWaZXRW0lQzE"
   },
   "outputs": [],
   "source": [
    "def sum_val(a,b):\n",
    "  c = a+b\n",
    "  return (c)"
   ]
  },
  {
   "cell_type": "code",
   "execution_count": null,
   "metadata": {
    "colab": {
     "base_uri": "https://localhost:8080/"
    },
    "id": "inXkQKsZk05s",
    "outputId": "393478b2-1aa9-4cd9-f084-8e56751e077f"
   },
   "outputs": [
    {
     "name": "stdout",
     "output_type": "stream",
     "text": [
      "36\n"
     ]
    }
   ],
   "source": [
    "print(sum_val(4,8) * 3)"
   ]
  },
  {
   "cell_type": "code",
   "execution_count": null,
   "metadata": {
    "id": "cHQiie7rk9Km"
   },
   "outputs": [],
   "source": [
    "#Scope of variables\n",
    "\n",
    "a = 4.     #Global variables\n",
    "b = 5\n",
    "\n",
    "def my_func():\n",
    "  a = 3.        #local declarations\n",
    "  b = 2\n",
    "  c = a + b\n",
    "  print(c)"
   ]
  },
  {
   "cell_type": "code",
   "execution_count": null,
   "metadata": {
    "colab": {
     "base_uri": "https://localhost:8080/"
    },
    "id": "0CiH2n3HluWZ",
    "outputId": "defddaa8-e805-480d-9673-b27991b1cb45"
   },
   "outputs": [
    {
     "name": "stdout",
     "output_type": "stream",
     "text": [
      "9.0\n",
      "5.0\n",
      "9.0\n"
     ]
    }
   ],
   "source": [
    "print(a+b)\n",
    "my_func()\n",
    "print(a+b)"
   ]
  },
  {
   "cell_type": "code",
   "execution_count": null,
   "metadata": {
    "colab": {
     "base_uri": "https://localhost:8080/"
    },
    "id": "hqu96wgPlzSo",
    "outputId": "1e557b10-0615-41f7-bd6c-e3939a9ed025"
   },
   "outputs": [
    {
     "name": "stdout",
     "output_type": "stream",
     "text": [
      "9.0\n"
     ]
    }
   ],
   "source": [
    "print(a+b)"
   ]
  },
  {
   "cell_type": "code",
   "execution_count": null,
   "metadata": {
    "id": "FGIvCoLEl_Ce"
   },
   "outputs": [],
   "source": [
    "#maniputate the value of global variable from the function\n",
    "\n",
    "x = 7\n",
    "y = 9\n",
    "\n",
    "def new_func():\n",
    "  global x\n",
    "  global y\n",
    "\n",
    "  x = 3\n",
    "  y = 4\n",
    "  z = (x + y)\n",
    "  print(z)"
   ]
  },
  {
   "cell_type": "code",
   "execution_count": null,
   "metadata": {
    "colab": {
     "base_uri": "https://localhost:8080/"
    },
    "id": "FOw159Kamfzx",
    "outputId": "24d722e5-690b-480e-ee86-ae567f924ee9"
   },
   "outputs": [
    {
     "name": "stdout",
     "output_type": "stream",
     "text": [
      "16\n",
      "7\n",
      "7\n"
     ]
    }
   ],
   "source": [
    "print(x + y)\n",
    "\n",
    "new_func()\n",
    "\n",
    "print(x + y)"
   ]
  },
  {
   "cell_type": "code",
   "execution_count": null,
   "metadata": {
    "id": "OGLqAIsfmiEj"
   },
   "outputs": [],
   "source": [
    "#Classes in Python\n",
    "\n",
    "class people:\n",
    "\n",
    "  people1 = 'John'\n",
    "  people2 = 'Mann'\n",
    "\n",
    "  def fun(self,x):\n",
    "    print('Hello',self.people1,'and',x)\n",
    "\n",
    "  def fun2(self):\n",
    "    print('Welcome',self.people2)"
   ]
  },
  {
   "cell_type": "code",
   "execution_count": null,
   "metadata": {
    "id": "qWJpqMWCnrYk"
   },
   "outputs": [],
   "source": [
    "p1 = people()"
   ]
  },
  {
   "cell_type": "code",
   "execution_count": null,
   "metadata": {
    "colab": {
     "base_uri": "https://localhost:8080/"
    },
    "id": "7iEg6jGInwN5",
    "outputId": "69ad533e-c37e-49d0-8ae9-f0ca9a24db15"
   },
   "outputs": [
    {
     "name": "stdout",
     "output_type": "stream",
     "text": [
      "Hello John and Joy\n",
      "Welcome Mann\n"
     ]
    }
   ],
   "source": [
    "p1.fun('Joy')\n",
    "p1.fun2()"
   ]
  },
  {
   "cell_type": "code",
   "execution_count": null,
   "metadata": {
    "colab": {
     "base_uri": "https://localhost:8080/"
    },
    "id": "8sIawO0rnyiH",
    "outputId": "c7272882-cd8c-48ba-edbf-2146a0d6ea26"
   },
   "outputs": [
    {
     "name": "stdout",
     "output_type": "stream",
     "text": [
      "John\n"
     ]
    }
   ],
   "source": [
    "print(p1.people1)"
   ]
  },
  {
   "cell_type": "code",
   "execution_count": null,
   "metadata": {
    "id": "QmHvLKrloSPo"
   },
   "outputs": [],
   "source": [
    "#Classes - constructor\n",
    "\n",
    "class people:\n",
    "\n",
    "  count = 0\n",
    "\n",
    "  def __init__(self,name):     #Constructor\n",
    "    self.n = name\n",
    "    people.count += 1\n",
    "\n",
    "  def say_hello(self):\n",
    "    print('Hello, I am' , self.n)\n",
    "\n",
    "  def total_count(self):\n",
    "    print(self.count)"
   ]
  },
  {
   "cell_type": "code",
   "execution_count": null,
   "metadata": {
    "colab": {
     "base_uri": "https://localhost:8080/"
    },
    "id": "OhuvU4TzqAfM",
    "outputId": "9c834090-d466-4bd0-d54c-8fbec5bdb158"
   },
   "outputs": [
    {
     "name": "stdout",
     "output_type": "stream",
     "text": [
      "Hello, I am Mann\n",
      "1\n"
     ]
    }
   ],
   "source": [
    "p1 = people('Mann')\n",
    "p1.say_hello()\n",
    "p1.total_count()"
   ]
  },
  {
   "cell_type": "code",
   "execution_count": null,
   "metadata": {
    "colab": {
     "base_uri": "https://localhost:8080/"
    },
    "id": "yOpY23PtqE9y",
    "outputId": "da4d4a50-f8ff-4769-dc7f-d7fb78726ec9"
   },
   "outputs": [
    {
     "name": "stdout",
     "output_type": "stream",
     "text": [
      "Hello, I am John\n",
      "2\n"
     ]
    }
   ],
   "source": [
    "p2 = people('John')\n",
    "p2.say_hello()\n",
    "p2.total_count()"
   ]
  },
  {
   "cell_type": "code",
   "execution_count": null,
   "metadata": {
    "colab": {
     "base_uri": "https://localhost:8080/"
    },
    "id": "jkXBN9DKrSr7",
    "outputId": "76e5307a-80fd-4d89-c850-281ef6d65179"
   },
   "outputs": [
    {
     "name": "stdout",
     "output_type": "stream",
     "text": [
      "Hello, I am Joy\n",
      "3\n"
     ]
    }
   ],
   "source": [
    "p3 = people('Joy')\n",
    "p3.say_hello()\n",
    "p3.total_count()"
   ]
  },
  {
   "cell_type": "code",
   "execution_count": null,
   "metadata": {
    "colab": {
     "base_uri": "https://localhost:8080/"
    },
    "id": "gNatgO19rf9P",
    "outputId": "b750aec6-4e5f-4813-94c4-c4b005936351"
   },
   "outputs": [
    {
     "name": "stdout",
     "output_type": "stream",
     "text": [
      "Hello, I am Amit\n",
      "4\n"
     ]
    }
   ],
   "source": [
    "p4 = people('Amit')\n",
    "p4.say_hello()\n",
    "p4.total_count()"
   ]
  },
  {
   "cell_type": "code",
   "execution_count": null,
   "metadata": {
    "id": "5w46Y7G_rjt8"
   },
   "outputs": [],
   "source": []
  }
 ],
 "metadata": {
  "colab": {
   "provenance": []
  },
  "kernelspec": {
   "display_name": "Python 3 (ipykernel)",
   "language": "python",
   "name": "python3"
  },
  "language_info": {
   "codemirror_mode": {
    "name": "ipython",
    "version": 3
   },
   "file_extension": ".py",
   "mimetype": "text/x-python",
   "name": "python",
   "nbconvert_exporter": "python",
   "pygments_lexer": "ipython3",
   "version": "3.12.4"
  }
 },
 "nbformat": 4,
 "nbformat_minor": 4
}
