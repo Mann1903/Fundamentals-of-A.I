{
  "nbformat": 4,
  "nbformat_minor": 0,
  "metadata": {
    "colab": {
      "provenance": []
    },
    "kernelspec": {
      "name": "python3",
      "display_name": "Python 3"
    },
    "language_info": {
      "name": "python"
    }
  },
  "cells": [
    {
      "cell_type": "markdown",
      "source": [
        "## **Name : Mann Dsylva**\n",
        "\n",
        "## **Roll no : 24MAI 009**"
      ],
      "metadata": {
        "id": "NzFCurRJzPB0"
      }
    },
    {
      "cell_type": "markdown",
      "source": [
        "Deapth First Search"
      ],
      "metadata": {
        "id": "S9obntSczcBC"
      }
    },
    {
      "cell_type": "code",
      "execution_count": 1,
      "metadata": {
        "colab": {
          "base_uri": "https://localhost:8080/"
        },
        "id": "4G1HiUqIzF5X",
        "outputId": "68a703bc-a354-49ce-ce04-095281cb327b"
      },
      "outputs": [
        {
          "output_type": "stream",
          "name": "stdout",
          "text": [
            "A B D E F C "
          ]
        }
      ],
      "source": [
        "# DFS function\n",
        "def dfs(graph, start, visited=None):\n",
        "    if visited is None:\n",
        "        # To keep track of visited nodes\n",
        "        visited = set()\n",
        "        # Mark the current node as visited\n",
        "    visited.add(start)\n",
        "    # Print the current node\n",
        "    print(start, end=' ')\n",
        "\n",
        "    # Visit each neighbor of the current node\n",
        "    for neighbor in graph[start]:\n",
        "        if neighbor not in visited:\n",
        "            dfs(graph, neighbor, visited)  # Recursive DFS call\n",
        "\n",
        "graph = {\n",
        "    'A': ['B', 'C'],\n",
        "    'B': ['A', 'D', 'E'],\n",
        "    'C': ['A', 'F'],\n",
        "    'D': ['B'],\n",
        "    'E': ['B', 'F'],\n",
        "    'F': ['C', 'E']\n",
        "}\n",
        "\n",
        "# Perform DFS starting from node 'A'\n",
        "dfs(graph, 'A')\n"
      ]
    },
    {
      "cell_type": "markdown",
      "source": [
        "Breath First Search"
      ],
      "metadata": {
        "id": "WmHHWhgszzUp"
      }
    },
    {
      "cell_type": "code",
      "source": [
        "from collections import deque\n",
        "\n",
        "# BFS function\n",
        "def bfs(graph, start):\n",
        "    visited = set()              # To keep track of visited nodes\n",
        "    queue = deque([start])       # Initialize the queue with the starting node\n",
        "\n",
        "    while queue:\n",
        "        node = queue.popleft()   # Pop the first node in the queue\n",
        "        if node not in visited:\n",
        "            print(node, end=' ')  # Print the current node\n",
        "            visited.add(node)     # Mark the node as visited\n",
        "\n",
        "            # Add all unvisited neighbors to the queue\n",
        "            for neighbor in graph[node]:\n",
        "                if neighbor not in visited:\n",
        "                    queue.append(neighbor)\n",
        "# Example usage\n",
        "graph = {\n",
        "    'A': ['B', 'C'],\n",
        "    'B': ['A', 'D', 'E'],\n",
        "    'C': ['A', 'F'],\n",
        "    'D': ['B'],\n",
        "    'E': ['B', 'F'],\n",
        "    'F': ['C', 'E']\n",
        "}\n",
        "\n",
        "# Perform BFS starting from node 'A'\n",
        "bfs(graph, 'A')"
      ],
      "metadata": {
        "colab": {
          "base_uri": "https://localhost:8080/"
        },
        "id": "KziL94bAzuM3",
        "outputId": "85a83b49-6794-4a09-fd17-dd156f96a3a7"
      },
      "execution_count": 2,
      "outputs": [
        {
          "output_type": "stream",
          "name": "stdout",
          "text": [
            "A B C D E F "
          ]
        }
      ]
    },
    {
      "cell_type": "code",
      "source": [],
      "metadata": {
        "id": "XYLwKDrrz2H2"
      },
      "execution_count": null,
      "outputs": []
    }
  ]
}
